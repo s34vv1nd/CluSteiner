{
 "cells": [
  {
   "cell_type": "code",
   "execution_count": 5,
   "metadata": {},
   "outputs": [],
   "source": [
    "from os import listdir\n",
    "\n",
    "INPUT_FOLDER = \"input_data\\Type_1_Large\"\n",
    "files = listdir(INPUT_FOLDER)\n",
    "# files"
   ]
  }
 ],
 "metadata": {
  "interpreter": {
   "hash": "99296c28cac87fe920671a3b77d078174d8b5f179888e03adbc1a0b2c49c3956"
  },
  "kernelspec": {
   "display_name": "Python 3.8.12 64-bit ('env': venv)",
   "language": "python",
   "name": "python3"
  },
  "language_info": {
   "codemirror_mode": {
    "name": "ipython",
    "version": 3
   },
   "file_extension": ".py",
   "mimetype": "text/x-python",
   "name": "python",
   "nbconvert_exporter": "python",
   "pygments_lexer": "ipython3",
   "version": "3.8.12"
  },
  "orig_nbformat": 4
 },
 "nbformat": 4,
 "nbformat_minor": 2
}
