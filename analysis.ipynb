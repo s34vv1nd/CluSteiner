{
 "cells": [
  {
   "cell_type": "code",
   "execution_count": 10,
   "metadata": {},
   "outputs": [],
   "source": [
    "from os import listdir"
   ]
  },
  {
   "cell_type": "code",
   "execution_count": 11,
   "metadata": {},
   "outputs": [],
   "source": [
    "INPUT_FOLDER = \"input_data\"\n",
    "OUTPUT_FOLDER = \"output_data-SPGA_ver1\"\n",
    "INSTANCE_TYPES = [\"Type_1_Small\", \"Type_1_Large\"]\n",
    "NUM_SEED = 10\n",
    "NUM_GENS = 100"
   ]
  },
  {
   "cell_type": "code",
   "execution_count": 28,
   "metadata": {},
   "outputs": [],
   "source": [
    "def analyse(outputfile):\n",
    "  generations = []\n",
    "  with open(outputfile, \"r\") as f:\n",
    "    f.readline()\n",
    "    for _ in range(NUM_GENS + 2):\n",
    "      gen, res = f.readline().split(\":\")\n",
    "      if gen == \"Best\":\n",
    "        break\n",
    "      res = res.split(\"), \")[1]\n",
    "      res = res.split(\")\")[0]\n",
    "      generations.append(int(res))\n",
    "    best = res.split(\"), \")[1]\n",
    "    best = best.split(\")\")[0]\n",
    "    best = int(best)\n",
    "    runtime = float(f.readline().split(\":\")[1].split(\" \")[1])\n",
    "  return (generations, best, runtime)\n",
    "\n",
    "# analyse(\"output_data-SPGA_ver1/Type_1_Small/5berlin52_seed0.txt\")"
   ]
  },
  {
   "cell_type": "code",
   "execution_count": 33,
   "metadata": {},
   "outputs": [
    {
     "data": {
      "text/plain": [
       "{'Type_1_Small': {'10eil51.txt': (887, 887.0, 6.9980224699999996),\n",
       "  '10kroB100.txt': (657, 657.0, 19.830618500000003),\n",
       "  '10pr76.txt': (900, 900.0, 12.171748529999999),\n",
       "  '15berlin52.txt': (1120, 1120.0, 6.23922735),\n",
       "  '15pr76.txt': (952, 952.0, 12.65938995),\n",
       "  '15st70.txt': (1071, 1071.0, 10.64423586),\n",
       "  '25eil101.txt': (1118, 1118.0, 23.04898072),\n",
       "  '25lin105.txt': (884, 884.0, 22.640228560000004),\n",
       "  '25rat99.txt': (1218, 1218.0, 21.38608095),\n",
       "  '50eil101.txt': (1329, 1329.0, 18.866504740000003),\n",
       "  '50lin105.txt': (1556, 1556.0, 22.61994126),\n",
       "  '50rat99.txt': (1313, 1313.0, 18.517858840000002),\n",
       "  '5berlin52.txt': (972, 972.0, 4.988388980000001),\n",
       "  '5eil76.txt': (527, 527.0, 8.328872809999998),\n",
       "  '75lin105.txt': (1386, 1386.0, 20.513145459999997)},\n",
       " 'Type_1_Large': {'10a280.txt': (747, 744.4, 169.06337438999998),\n",
       "  '10gil262.txt': (763, 756.4, 150.22101034),\n",
       "  '10lin318.txt': (695, 691.4, 214.79455191000002),\n",
       "  '10pr439.txt': (563, 558.8, 393.22105525),\n",
       "  '25a280.txt': (966, 953.7, 226.70702028),\n",
       "  '25gil262.txt': (953, 934.4, 161.99903041999997),\n",
       "  '25lin318.txt': (906, 894.9, 254.05075136999994),\n",
       "  '50a280.txt': (1128, 1117.1, 186.82111371000002),\n",
       "  '50gil262.txt': (1191, 1170.5, 151.60258443),\n",
       "  '50lin318.txt': (1150, 1139.4, 278.19149825000005)}}"
      ]
     },
     "execution_count": 33,
     "metadata": {},
     "output_type": "execute_result"
    }
   ],
   "source": [
    "files = {}\n",
    "result = {}\n",
    "for instype in INSTANCE_TYPES:\n",
    "  files[instype] = {}\n",
    "  result[instype] = {}\n",
    "  for filename in listdir(INPUT_FOLDER + \"\\\\\" + instype):\n",
    "    fileformat = OUTPUT_FOLDER + \"\\\\\" + instype + \"\\\\\" + filename.split(\".\")[0] + \"_seed\"\n",
    "    files[instype][filename] = {}\n",
    "    resultlist = []\n",
    "    runtimelist = []\n",
    "    for i in range(NUM_SEED):\n",
    "      outputfile = fileformat + str(i) + \".txt\"\n",
    "      files[instype][filename][outputfile] = analyse(outputfile)\n",
    "      resultlist.append(files[instype][filename][outputfile][1])\n",
    "      runtimelist.append(files[instype][filename][outputfile][2])\n",
    "    result[instype][filename] = (max(resultlist), sum(resultlist) / NUM_SEED, sum(runtimelist) / NUM_SEED)\n",
    "\n",
    "result"
   ]
  }
 ],
 "metadata": {
  "interpreter": {
   "hash": "99296c28cac87fe920671a3b77d078174d8b5f179888e03adbc1a0b2c49c3956"
  },
  "kernelspec": {
   "display_name": "Python 3.8.12 64-bit ('env': venv)",
   "language": "python",
   "name": "python3"
  },
  "language_info": {
   "codemirror_mode": {
    "name": "ipython",
    "version": 3
   },
   "file_extension": ".py",
   "mimetype": "text/x-python",
   "name": "python",
   "nbconvert_exporter": "python",
   "pygments_lexer": "ipython3",
   "version": "3.8.12"
  },
  "orig_nbformat": 4
 },
 "nbformat": 4,
 "nbformat_minor": 2
}
