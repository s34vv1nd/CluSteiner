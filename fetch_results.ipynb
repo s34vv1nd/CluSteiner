{
 "cells": [
  {
   "cell_type": "code",
   "execution_count": 39,
   "metadata": {},
   "outputs": [],
   "source": [
    "from os import listdir, path\n",
    "import csv"
   ]
  },
  {
   "cell_type": "code",
   "execution_count": 40,
   "metadata": {},
   "outputs": [],
   "source": [
    "INPUT_FOLDER = \"input_data\"\n",
    "OUTPUT_FOLDER = \"output_data-RSPH_ver2\"\n",
    "ALGORITHM = \"RSPH\"\n",
    "INSTANCE_TYPES = listdir(INPUT_FOLDER)\n",
    "NUM_SEED = 30\n",
    "NUM_GENS = 100"
   ]
  },
  {
   "cell_type": "code",
   "execution_count": 43,
   "metadata": {},
   "outputs": [],
   "source": [
    "def analyse(outputfile):\n",
    "  if not path.isfile(outputfile):\n",
    "    return ([], 0, 0)\n",
    "\n",
    "  generations = []\n",
    "  with open(outputfile, \"r\") as f:\n",
    "    # f.readline()\n",
    "    # for _ in range(NUM_GENS + 2):\n",
    "    #   gen, res = f.readline().split(\":\")\n",
    "    #   if gen == \"Best\":\n",
    "    #     break\n",
    "    #   res = res.split(\"), \")[1]\n",
    "    #   res = res.split(\")\")[0]\n",
    "    #   generations.append(int(res))\n",
    "    # best = res.split(\"), \")[1]\n",
    "    # best = best.split(\")\")[0]\n",
    "    # best = int(best)\n",
    "    best = int(f.readline().split(\": \")[1])\n",
    "    runtime = float(f.readline().split(\":\")[1].split(\" \")[1])\n",
    "  return (generations, best, runtime)\n",
    "\n",
    "# analyse(\"output_data-SPGA_ver1/Type_1_Small/5berlin52_seed0.txt\")"
   ]
  },
  {
   "cell_type": "code",
   "execution_count": 44,
   "metadata": {},
   "outputs": [],
   "source": [
    "files = {}\n",
    "result = {}\n",
    "for instype in INSTANCE_TYPES:\n",
    "  files[instype] = {}\n",
    "  result[instype] = {}\n",
    "  f = open(OUTPUT_FOLDER + \"\\\\output_\" + instype + \".csv\", \"w+\")\n",
    "  writer = csv.writer(f)\n",
    "  writer.writerow([\"Algorithm\", \"Type\", \"Instance\", \"Seed\", \"BF\", \"Rs\"])\n",
    "  for filename in listdir(INPUT_FOLDER + \"\\\\\" + instype):\n",
    "    fileformat = OUTPUT_FOLDER + \"\\\\\" + instype + \"\\\\\" + filename[:-4] + \"_seed\"\n",
    "    files[instype][filename] = {}\n",
    "    resultlist = []\n",
    "    runtimelist = []\n",
    "    for i in range(NUM_SEED):\n",
    "      outputfile = fileformat + str(i) + \".txt\"\n",
    "      tmp = analyse(outputfile)\n",
    "      if tmp[1] != 0:\n",
    "        files[instype][filename][outputfile] = tmp\n",
    "        resultlist.append(tmp[1])\n",
    "        runtimelist.append(tmp[2])\n",
    "        writer.writerow([ALGORITHM, instype, filename[:-4], i, tmp[1], tmp[2]])\n",
    "    # result[instype][filename] = (min(resultlist), sum(resultlist) / NUM_SEED, sum(runtimelist) / NUM_SEED)\n",
    "    \n",
    "  f.close()"
   ]
  }
 ],
 "metadata": {
  "interpreter": {
   "hash": "99296c28cac87fe920671a3b77d078174d8b5f179888e03adbc1a0b2c49c3956"
  },
  "kernelspec": {
   "display_name": "Python 3.8.12 64-bit ('env': venv)",
   "language": "python",
   "name": "python3"
  },
  "language_info": {
   "codemirror_mode": {
    "name": "ipython",
    "version": 3
   },
   "file_extension": ".py",
   "mimetype": "text/x-python",
   "name": "python",
   "nbconvert_exporter": "python",
   "pygments_lexer": "ipython3",
   "version": "3.8.5"
  },
  "orig_nbformat": 4
 },
 "nbformat": 4,
 "nbformat_minor": 2
}
