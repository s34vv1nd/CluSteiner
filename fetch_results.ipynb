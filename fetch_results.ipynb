{
 "cells": [
  {
   "cell_type": "code",
   "execution_count": 12,
   "metadata": {},
   "outputs": [],
   "source": [
    "from os import listdir, path\n",
    "import csv"
   ]
  },
  {
   "cell_type": "code",
   "execution_count": 13,
   "metadata": {},
   "outputs": [],
   "source": [
    "INPUT_FOLDER = \"input_data\"\n",
    "OUTPUT_FOLDER = \"output_data-SPMST_ver2\"\n",
    "INSTANCE_TYPES = listdir(INPUT_FOLDER)\n",
    "NUM_SEED = 10\n",
    "NUM_GENS = 100"
   ]
  },
  {
   "cell_type": "code",
   "execution_count": 14,
   "metadata": {},
   "outputs": [],
   "source": [
    "def analyse(outputfile):\n",
    "  if not path.isfile(outputfile):\n",
    "    return None\n",
    "\n",
    "  generations = []\n",
    "  with open(outputfile, \"r\") as f:\n",
    "    # f.readline()\n",
    "    # for _ in range(NUM_GENS + 2):\n",
    "    #   gen, res = f.readline().split(\":\")\n",
    "    #   if gen == \"Best\":\n",
    "    #     break\n",
    "    #   res = res.split(\"), \")[1]\n",
    "    #   res = res.split(\")\")[0]\n",
    "    #   generations.append(int(res))\n",
    "    # best = res.split(\"), \")[1]\n",
    "    # best = best.split(\")\")[0]\n",
    "    # best = int(best)\n",
    "    best = int(f.readline().split(\": \")[1])\n",
    "    runtime = float(f.readline().split(\":\")[1].split(\" \")[1])\n",
    "  return (generations, best, runtime)\n",
    "\n",
    "# analyse(\"output_data-SPGA_ver1/Type_1_Small/5berlin52_seed0.txt\")"
   ]
  },
  {
   "cell_type": "code",
   "execution_count": 15,
   "metadata": {},
   "outputs": [
    {
     "ename": "ValueError",
     "evalue": "invalid literal for int() with base 10: '(3095, 252, 3347)\\n'",
     "output_type": "error",
     "traceback": [
      "\u001b[1;31m---------------------------------------------------------------------------\u001b[0m",
      "\u001b[1;31mValueError\u001b[0m                                Traceback (most recent call last)",
      "Input \u001b[1;32mIn [15]\u001b[0m, in \u001b[0;36m<module>\u001b[1;34m\u001b[0m\n\u001b[0;32m     14\u001b[0m \u001b[38;5;28;01mfor\u001b[39;00m i \u001b[38;5;129;01min\u001b[39;00m \u001b[38;5;28mrange\u001b[39m(NUM_SEED):\n\u001b[0;32m     15\u001b[0m   outputfile \u001b[38;5;241m=\u001b[39m fileformat \u001b[38;5;241m+\u001b[39m \u001b[38;5;28mstr\u001b[39m(i) \u001b[38;5;241m+\u001b[39m \u001b[38;5;124m\"\u001b[39m\u001b[38;5;124m.txt\u001b[39m\u001b[38;5;124m\"\u001b[39m\n\u001b[1;32m---> 16\u001b[0m   files[instype][filename][outputfile] \u001b[38;5;241m=\u001b[39m \u001b[43manalyse\u001b[49m\u001b[43m(\u001b[49m\u001b[43moutputfile\u001b[49m\u001b[43m)\u001b[49m\n\u001b[0;32m     17\u001b[0m   resultlist\u001b[38;5;241m.\u001b[39mappend(files[instype][filename][outputfile][\u001b[38;5;241m1\u001b[39m])\n\u001b[0;32m     18\u001b[0m   runtimelist\u001b[38;5;241m.\u001b[39mappend(files[instype][filename][outputfile][\u001b[38;5;241m2\u001b[39m])\n",
      "Input \u001b[1;32mIn [14]\u001b[0m, in \u001b[0;36manalyse\u001b[1;34m(outputfile)\u001b[0m\n\u001b[0;32m      2\u001b[0m generations \u001b[38;5;241m=\u001b[39m []\n\u001b[0;32m      3\u001b[0m \u001b[38;5;28;01mwith\u001b[39;00m \u001b[38;5;28mopen\u001b[39m(outputfile, \u001b[38;5;124m\"\u001b[39m\u001b[38;5;124mr\u001b[39m\u001b[38;5;124m\"\u001b[39m) \u001b[38;5;28;01mas\u001b[39;00m f:\n\u001b[0;32m      4\u001b[0m   \u001b[38;5;66;03m# f.readline()\u001b[39;00m\n\u001b[0;32m      5\u001b[0m   \u001b[38;5;66;03m# for _ in range(NUM_GENS + 2):\u001b[39;00m\n\u001b[1;32m   (...)\u001b[0m\n\u001b[0;32m     13\u001b[0m   \u001b[38;5;66;03m# best = best.split(\")\")[0]\u001b[39;00m\n\u001b[0;32m     14\u001b[0m   \u001b[38;5;66;03m# best = int(best)\u001b[39;00m\n\u001b[1;32m---> 15\u001b[0m   best \u001b[38;5;241m=\u001b[39m \u001b[38;5;28;43mint\u001b[39;49m\u001b[43m(\u001b[49m\u001b[43mf\u001b[49m\u001b[38;5;241;43m.\u001b[39;49m\u001b[43mreadline\u001b[49m\u001b[43m(\u001b[49m\u001b[43m)\u001b[49m\u001b[38;5;241;43m.\u001b[39;49m\u001b[43msplit\u001b[49m\u001b[43m(\u001b[49m\u001b[38;5;124;43m\"\u001b[39;49m\u001b[38;5;124;43m: \u001b[39;49m\u001b[38;5;124;43m\"\u001b[39;49m\u001b[43m)\u001b[49m\u001b[43m[\u001b[49m\u001b[38;5;241;43m1\u001b[39;49m\u001b[43m]\u001b[49m\u001b[43m)\u001b[49m\n\u001b[0;32m     16\u001b[0m   runtime \u001b[38;5;241m=\u001b[39m \u001b[38;5;28mfloat\u001b[39m(f\u001b[38;5;241m.\u001b[39mreadline()\u001b[38;5;241m.\u001b[39msplit(\u001b[38;5;124m\"\u001b[39m\u001b[38;5;124m:\u001b[39m\u001b[38;5;124m\"\u001b[39m)[\u001b[38;5;241m1\u001b[39m]\u001b[38;5;241m.\u001b[39msplit(\u001b[38;5;124m\"\u001b[39m\u001b[38;5;124m \u001b[39m\u001b[38;5;124m\"\u001b[39m)[\u001b[38;5;241m1\u001b[39m])\n\u001b[0;32m     17\u001b[0m \u001b[38;5;28;01mreturn\u001b[39;00m (generations, best, runtime)\n",
      "\u001b[1;31mValueError\u001b[0m: invalid literal for int() with base 10: '(3095, 252, 3347)\\n'"
     ]
    }
   ],
   "source": [
    "files = {}\n",
    "result = {}\n",
    "for instype in INSTANCE_TYPES:\n",
    "  files[instype] = {}\n",
    "  result[instype] = {}\n",
    "  f = open(OUTPUT_FOLDER + \"\\\\output_\" + instype + \".csv\", \"w+\")\n",
    "  writer = csv.writer(f)\n",
    "  writer.writerow([\"Instance\", \"BF\", \"AVG\", \"Rs\"])\n",
    "  for filename in listdir(INPUT_FOLDER + \"\\\\\" + instype):\n",
    "    fileformat = OUTPUT_FOLDER + \"\\\\\" + instype + \"\\\\\" + filename.split(\".\")[0] + \"_seed\"\n",
    "    files[instype][filename] = {}\n",
    "    resultlist = []\n",
    "    runtimelist = []\n",
    "    for i in range(NUM_SEED):\n",
    "      outputfile = fileformat + str(i) + \".txt\"\n",
    "      tmp = analyse(outputfile)\n",
    "      if tmp != None:\n",
    "        files[instype][filename][outputfile] = tmp\n",
    "        resultlist.append(files[instype][filename][outputfile][1])\n",
    "        runtimelist.append(files[instype][filename][outputfile][2])\n",
    "    result[instype][filename] = (min(resultlist), sum(resultlist) / NUM_SEED, sum(runtimelist) / NUM_SEED)\n",
    "    writer.writerow([filename[:-4], min(resultlist), sum(resultlist) / NUM_SEED, sum(runtimelist) / NUM_SEED])\n",
    "  f.close()"
   ]
  }
 ],
 "metadata": {
  "interpreter": {
   "hash": "99296c28cac87fe920671a3b77d078174d8b5f179888e03adbc1a0b2c49c3956"
  },
  "kernelspec": {
   "display_name": "Python 3.8.12 64-bit ('env': venv)",
   "language": "python",
   "name": "python3"
  },
  "language_info": {
   "codemirror_mode": {
    "name": "ipython",
    "version": 3
   },
   "file_extension": ".py",
   "mimetype": "text/x-python",
   "name": "python",
   "nbconvert_exporter": "python",
   "pygments_lexer": "ipython3",
   "version": "3.8.5"
  },
  "orig_nbformat": 4
 },
 "nbformat": 4,
 "nbformat_minor": 2
}
